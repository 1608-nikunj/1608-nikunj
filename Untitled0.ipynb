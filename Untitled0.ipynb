{
  "cells": [
    {
      "cell_type": "markdown",
      "metadata": {
        "id": "view-in-github",
        "colab_type": "text"
      },
      "source": [
        "<a href=\"https://colab.research.google.com/github/1608-nikunj/1608-nikunj/blob/main/Untitled0.ipynb\" target=\"_parent\"><img src=\"https://colab.research.google.com/assets/colab-badge.svg\" alt=\"Open In Colab\"/></a>"
      ]
    },
    {
      "cell_type": "code",
      "source": [
        "import tensorflow as tf\n",
        "from tensorflow import keras\n",
        "from keras.models import Sequential\n",
        "from keras.layers import Activation, Dense, Flatten, BatchNormalization, Conv2D, MaxPool2D, Dropout\n",
        "from keras.metrics import categorical_crossentropy\n",
        "from keras.preprocessing.image import ImageDataGenerator\n",
        "\n",
        "import warnings\n",
        "import numpy as np\n",
        "import cv2\n",
        "from keras.callbacks import ReduceLROnPlateau\n",
        "from keras.callbacks import ModelCheckpoint, EarlyStopping\n",
        "warnings.simplefilter(action='ignore', category=FutureWarning)\n",
        "\n",
        "\n",
        "background = None\n",
        "accumulated_weight = 0.5\n",
        "ROI_top = 100\n",
        "ROI_bottom = 300\n",
        "ROI_right = 150\n",
        "ROI_left = 350\n",
        "\n",
        "\n",
        "def cal_accum_avg(frame, accumulated_weight):\n",
        "\n",
        "    global background\n",
        "    \n",
        "    if background is None:\n",
        "        background = frame.copy().astype(\"float\")\n",
        "        return None\n",
        "\n",
        "    cv2.accumulateWeighted(frame, background, accumulated_weight)"
      ],
      "metadata": {
        "id": "V6-PhLdZrPmP"
      },
      "execution_count": 6,
      "outputs": []
    },
    {
      "cell_type": "code",
      "source": [
        "def segment_hand(frame, threshold=25):\n",
        "    global background\n",
        "    \n",
        "    diff = cv2.absdiff(background.astype(\"uint8\"), frame)\n",
        "\n",
        "    _ , thresholded = cv2.threshold(diff, threshold,255,cv2.THRESH_BINARY)\n",
        "    image, contours, hierarchy = cv2.findContours(thresholded.copy(),\n",
        "    cv2.RETR_EXTERNAL, cv2.CHAIN_APPROX_SIMPLE)\n",
        "    if len(contours) == 0:\n",
        "        return None\n",
        "    else:\n",
        "        hand_segment_max_cont = max(contours, key=cv2.contourArea)\n",
        "        return (thresholded, hand_segment_max_cont)"
      ],
      "metadata": {
        "id": "9r-cBt2Trgej"
      },
      "execution_count": 7,
      "outputs": []
    },
    {
      "cell_type": "code",
      "source": [
        "cam = cv2.VideoCapture(1)\n",
        "num_frames = 0\n",
        "element = 10\n",
        "num_imgs_taken = 0\n",
        "while True:\n",
        "    ret, frame = cam.read()\n",
        "    frame = cv2.flip(frame, 1)\n",
        "    if frame is None:\n",
        "      break\n",
        "    frame_copy = frame.copy()\n",
        "    roi = frame[ROI_top:ROI_bottom, ROI_right:ROI_left]\n",
        "    gray_frame = cv2.cvtColor(roi, cv2.COLOR_BGR2GRAY)\n",
        "    gray_frame = cv2.GaussianBlur(gray_frame, (9, 9), 0)\n",
        "\n",
        "    if num_frames < 60:\n",
        "        cal_accum_avg(gray_frame, accumulated_weight)\n",
        "        if num_frames <= 59:\n",
        "            \n",
        "            cv2.putText(frame_copy, \"FETCHING BACKGROUND...PLEASE WAIT\",\n",
        "(80, 400), cv2.FONT_HERSHEY_SIMPLEX, 0.9, (0,0,255), 2)\n",
        "    elif num_frames <= 300: \n",
        "        hand = segment_hand(gray_frame)\n",
        "        cv2.putText(frame_copy, \"Adjust hand...Gesture for\" +\n",
        "  str(element), (200, 400), cv2.FONT_HERSHEY_SIMPLEX, 1,\n",
        "  (0,0,255),2)\n",
        "        if hand is not None:\n",
        "            thresholded, hand_segment = hand\n",
        "            cv2.drawContours(frame_copy, [hand_segment + (ROI_right,\n",
        "            ROI_top)], -1, (255, 0, 0),1)\n",
        "            \n",
        "            cv2.putText(frame_copy, str(num_frames)+\"For\" + str(element),\n",
        "            (70, 45), cv2.FONT_HERSHEY_SIMPLEX, 1, (0,0,255), 2)\n",
        "            cv2.imshow(\"Thresholded Hand Image\", thresholded)\n",
        "    else: \n",
        "        hand = segment_hand(gray_frame)\n",
        "        if hand is not None:\n",
        "            thresholded, hand_segment = hand\n",
        "            cv2.drawContours(frame_copy, [hand_segment + (ROI_right,\n",
        "            ROI_top)], -1, (255, 0, 0),1)\n",
        "            cv2.putText(frame_copy, str(num_frames), (70, 45),\n",
        "            cv2.FONT_HERSHEY_SIMPLEX, 1, (0,0,255), 2)\n",
        "            cv2.putText(frame_copy, str(num_imgs_taken) + 'images' +\"For\"\n",
        "      + str(element), (200, 400), cv2.FONT_HERSHEY_SIMPLEX, 1,\n",
        "      (0,0,255), 2)\n",
        "            cv2.imshow(\"Thresholded Hand Image\", thresholded)\n",
        "            if num_imgs_taken <= 300:\n",
        "                cv2.imwrite(r\"D:\\\\gesture\\\\train\\\\\"+str(element)+\"\\\\\" +\n",
        "                str(num_imgs_taken+300) + '.jpg', thresholded)\n",
        "            else:\n",
        "                break\n",
        "            num_imgs_taken +=1\n",
        "        else:\n",
        "            cv2.putText(frame_copy, 'No hand detected...', (200, 400),\n",
        " cv2.FONT_HERSHEY_SIMPLEX, 1, (0,0,255), 2)\n",
        "    cv2.rectangle(frame_copy, (ROI_left, ROI_top), (ROI_right,ROI_bottom), (255,128,0), 3)\n",
        "    cv2.putText(frame_copy, \"DataFlair hand sign recognition_ _ _\", (10, 20), cv2.FONT_ITALIC, 0.5, (51,255,51), 1)\n",
        "    num_frames += 1\n",
        "    cv2.imshow(\"Sign Detection\", frame_copy)\n",
        "    if k == 27:\n",
        "        break\n",
        "cv2.destroyAllWindows()\n",
        "cam.release()"
      ],
      "metadata": {
        "id": "kZNd0LJprwIQ"
      },
      "execution_count": 8,
      "outputs": []
    },
    {
      "cell_type": "code",
      "source": [],
      "metadata": {
        "id": "MtFn69Zbr0rY"
      },
      "execution_count": null,
      "outputs": []
    }
  ],
  "metadata": {
    "colab": {
      "name": "Untitled0.ipynb",
      "provenance": [],
      "mount_file_id": "15SF-3_sRv1Ygp4hFjkOTF7rqWcaLazh_",
      "authorship_tag": "ABX9TyN8pklegCTwnEdbckR95cme",
      "include_colab_link": true
    },
    "kernelspec": {
      "display_name": "Python 3",
      "name": "python3"
    },
    "language_info": {
      "name": "python"
    }
  },
  "nbformat": 4,
  "nbformat_minor": 0
}